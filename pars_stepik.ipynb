{
 "cells": [
  {
   "cell_type": "code",
   "execution_count": 27,
   "metadata": {},
   "outputs": [],
   "source": [
    "import requests"
   ]
  },
  {
   "cell_type": "code",
   "execution_count": 10,
   "metadata": {},
   "outputs": [],
   "source": [
    "def first_pars()\n",
    "    f = open('stepik_courses.txt','w')\n",
    "    has_next = True\n",
    "    page = 0\n",
    "    while has_next:\n",
    "        page += 1\n",
    "        url = 'https://stepik.org/api/courses?page={}'.format(page)\n",
    "        courses = requests.get(url).json()['courses']\n",
    "        has_next = requests.get(url).json()['meta']['has_next']\n",
    "        page_inf = [(course['id'], course['title'], course['language']) for course in courses]\n",
    "        for i in page_inf:\n",
    "            if i[2] == 'ru':\n",
    "                try:\n",
    "                    f.write(f\"('''{i[1]}''', 'https://stepik.org/course/{i[0]}/promo')\\n\")\n",
    "                except:\n",
    "                    continue\n",
    "    f.close()\n",
    "    with open('last_page_stepik.txt', 'w') as g:\n",
    "        g.write(str(page))"
   ]
  },
  {
   "cell_type": "code",
   "execution_count": null,
   "metadata": {},
   "outputs": [],
   "source": [
    "#first_pars()"
   ]
  },
  {
   "cell_type": "code",
   "execution_count": 11,
   "metadata": {},
   "outputs": [],
   "source": [
    "# f = open('stepik_courses_test.txt','r')\n",
    "# len([line.strip() for line in f])"
   ]
  }
 ],
 "metadata": {
  "kernelspec": {
   "display_name": "Python 3",
   "language": "python",
   "name": "python3"
  },
  "language_info": {
   "codemirror_mode": {
    "name": "ipython",
    "version": 3
   },
   "file_extension": ".py",
   "mimetype": "text/x-python",
   "name": "python",
   "nbconvert_exporter": "python",
   "pygments_lexer": "ipython3",
   "version": "3.8.3"
  }
 },
 "nbformat": 4,
 "nbformat_minor": 4
}
