{
 "cells": [
  {
   "cell_type": "code",
   "execution_count": 1,
   "metadata": {},
   "outputs": [],
   "source": [
    "import requests"
   ]
  },
  {
   "cell_type": "code",
   "execution_count": 14,
   "metadata": {},
   "outputs": [],
   "source": [
    "def get_last_page():\n",
    "    with open('last_page_stepik.txt', 'r') as g:\n",
    "        last_page = eval(g.read())\n",
    "    return last_page"
   ]
  },
  {
   "cell_type": "code",
   "execution_count": 17,
   "metadata": {},
   "outputs": [],
   "source": [
    "def check_new_page(page):\n",
    "    url = 'https://stepik.org/api/courses?page={}'.format(page)\n",
    "    has_next = requests.get(url).json()['meta']['has_next']\n",
    "    return has_next"
   ]
  },
  {
   "cell_type": "code",
   "execution_count": 26,
   "metadata": {},
   "outputs": [],
   "source": [
    "def upd_last_page(page):\n",
    "    with open(\"stepik_courses_test.txt\",'r') as f:\n",
    "        last_course = f.readlines()[-1]\n",
    "    url = 'https://stepik.org/api/courses?page={}'.format(page)\n",
    "    courses = requests.get(url).json()['courses']\n",
    "    ids = [course['id'] for course in courses]\n",
    "    titles = [course['title'] for course in courses]\n",
    "    langs = [course['language'] for course in courses]\n",
    "    \n",
    "    ii = titles.index(last_course)\n",
    "    \n",
    "    f = open('stepik_courses.txt','a')\n",
    "    for i in range(i+1, len(ids)):\n",
    "        if langs[i] == 'ru':\n",
    "        #lang check\n",
    "            try:\n",
    "                f.write(f\"('''{titles[i]}''', 'https://stepik.org/course/{ids[i]}/promo')\\n\")\n",
    "            except:\n",
    "                continue\n",
    "    f.close()"
   ]
  },
  {
   "cell_type": "code",
   "execution_count": 28,
   "metadata": {},
   "outputs": [],
   "source": [
    "def pars_new_pages(page):\n",
    "    f = open('stepik_courses.txt','a')\n",
    "    has_next = True\n",
    "    while has_next:\n",
    "        page += 1\n",
    "        url = 'https://stepik.org/api/courses?page={}'.format(page)\n",
    "        courses = requests.get(url).json()['courses']\n",
    "        has_next = requests.get(url).json()['meta']['has_next']\n",
    "        page_inf = [(course['id'], course['title'], course['language']) for course in courses]\n",
    "        for i in page_inf:\n",
    "            if i[2] == 'ru':\n",
    "                try:\n",
    "                    f.write(f\"('''{i[1]}''', 'https://stepik.org/course/{i[0]}/promo')\\n\")\n",
    "                except:\n",
    "                    continue\n",
    "    f.close()\n",
    "    with open('last_page_stepik.txt', 'w') as g:\n",
    "        g.write(str(page))"
   ]
  },
  {
   "cell_type": "code",
   "execution_count": 29,
   "metadata": {},
   "outputs": [],
   "source": [
    "def upd_pars():\n",
    "    page = get_last_page()\n",
    "    if check_new_page(page):\n",
    "        upd_last_page(page)\n",
    "        pars_new_pages(page)\n",
    "    else:\n",
    "        upd_last_page(page)"
   ]
  },
  {
   "cell_type": "code",
   "execution_count": null,
   "metadata": {},
   "outputs": [],
   "source": [
    "#upd_pars()"
   ]
  }
 ],
 "metadata": {
  "kernelspec": {
   "display_name": "Python 3",
   "language": "python",
   "name": "python3"
  },
  "language_info": {
   "codemirror_mode": {
    "name": "ipython",
    "version": 3
   },
   "file_extension": ".py",
   "mimetype": "text/x-python",
   "name": "python",
   "nbconvert_exporter": "python",
   "pygments_lexer": "ipython3",
   "version": "3.8.3"
  }
 },
 "nbformat": 4,
 "nbformat_minor": 4
}
