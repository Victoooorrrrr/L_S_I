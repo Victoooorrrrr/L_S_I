{
 "cells": [
  {
   "cell_type": "code",
   "execution_count": 1,
   "metadata": {},
   "outputs": [],
   "source": [
    "from bs4 import BeautifulSoup\n",
    "import requests\n",
    "import os\n",
    "import pandas as pd\n",
    "import time\n",
    "from langdetect.detector_factory import DetectorFactory"
   ]
  },
  {
   "cell_type": "code",
   "execution_count": null,
   "metadata": {},
   "outputs": [],
   "source": [
    "factory = DetectorFactory()\n",
    "factory.load_profile('ld_profile')\n",
    " \n",
    "def detect(text):\n",
    "    detector = factory.create()\n",
    "    detector.append(text)\n",
    "    return detector.detect()\n",
    " \n",
    "def detect_langs(text):\n",
    "    detector = factory.create()\n",
    "    detector.append(text)\n",
    "    return detector.get_probabilities()\n",
    "\n",
    "factory.get_lang_list()"
   ]
  },
  {
   "cell_type": "code",
   "execution_count": null,
   "metadata": {},
   "outputs": [],
   "source": [
    "url = \"https://www.coursera.org/directory/courses\"\n",
    "page = requests.get(url)\n",
    "soup = BeautifulSoup(page.content, 'html.parser')\n",
    "newpg = soup.find_all('a',class_ =\"MuiTypography-root MuiLink-root MuiLink-underlineHover box number css-bu128x MuiTypography-colorPrimary\")[-1].get_text()\n",
    "f = open(\"count_courses_coursera.txt\",'w')\n",
    "f.write(str(newpg))\n",
    "f.close()"
   ]
  },
  {
   "cell_type": "code",
   "execution_count": null,
   "metadata": {},
   "outputs": [],
   "source": [
    "f = open('coursera_courses.txt','w')\n",
    "\n",
    "for i in range(1,newpg+1):\n",
    "    #44&index=prod_all_products_term_optimization_v3&entityTypeDescription=Specializations&allLanguages=English\n",
    "    url = \"https://www.coursera.org/directory/courses?page=\" +str(i)\n",
    "    page = requests.get(url)\n",
    "    soup = BeautifulSoup(page.content, 'html.parser')\n",
    "    st = soup.find_all('a', class_ =\"MuiTypography-root MuiLink-root MuiLink-underlineHover css-19sqvu6 MuiTypography-colorPrimary\")\n",
    "    for j in range(0, len(st)):\n",
    "        #course-title\n",
    "        ct = soup.find_all('a', class_ =\"MuiTypography-root MuiLink-root MuiLink-underlineHover css-19sqvu6 MuiTypography-colorPrimary\")[j].get_text()\n",
    "        if detect(ct[0:ct.find('(')-1]) == 'ru':\n",
    "            try:\n",
    "                #course URL\n",
    "                curl = soup.find_all(\"a\", class_='MuiTypography-root MuiLink-root MuiLink-underlineHover css-19sqvu6 MuiTypography-colorPrimary')[j]\n",
    "                f.write(f\"('''{ct.split('(')[0].strip()}''', 'https://www.coursera.org{curl.get('href')}', '''{ct.split('(')[1][:-1].strip()}''')\\n\")\n",
    "                #f.write(\"https://www.coursera.org\"+ curl.get('href') + '\\n')\n",
    "            except:\n",
    "                continue\n",
    "f.close()"
   ]
  },
  {
   "cell_type": "code",
   "execution_count": null,
   "metadata": {},
   "outputs": [],
   "source": []
  }
 ],
 "metadata": {
  "kernelspec": {
   "display_name": "Python 3",
   "language": "python",
   "name": "python3"
  },
  "language_info": {
   "codemirror_mode": {
    "name": "ipython",
    "version": 3
   },
   "file_extension": ".py",
   "mimetype": "text/x-python",
   "name": "python",
   "nbconvert_exporter": "python",
   "pygments_lexer": "ipython3",
   "version": "3.8.3"
  }
 },
 "nbformat": 4,
 "nbformat_minor": 4
}
