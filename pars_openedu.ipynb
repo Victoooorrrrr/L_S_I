{
 "cells": [
  {
   "cell_type": "code",
   "execution_count": 39,
   "metadata": {},
   "outputs": [
    {
     "name": "stdout",
     "output_type": "stream",
     "text": [
      "Nothig new is aded\n"
     ]
    }
   ],
   "source": [
    "from bs4 import BeautifulSoup\n",
    "import requests\n",
    "import itertools \n",
    "import urllib.request\n",
    "\n",
    "f = open(\"count_courses_openedu.txt\",'r')\n",
    "oldnum_of_course = f.read()\n",
    "f.close()\n",
    "oldnum_of_course = eval(oldnum_of_course)\n",
    "url = \"https://openedu.ru/course/\"\n",
    "page = requests.get(url)\n",
    "soup = BeautifulSoup(page.content, 'html.parser')\n",
    "newnum_of_course = soup.find('span',{'id': 'courses-found'}).get_text()\n",
    "newnum_of_course = eval(''.join(itertools.filterfalse(str.isalpha, newnum_of_course)))\n",
    "if newnum_of_course == oldnum_of_course:\n",
    "    print(\"Nothig new is aded\")\n",
    "    #тут надо закрыть программу \n",
    "elif newnum_of_course > oldnum_of_course:\n",
    "    f = open(\"count_courses_openedu.txt\",'w')\n",
    "    f.write(str(newnum_of_course))\n",
    "    f.close\n",
    "    print(\"New number of courses is aded in file. Scrapping in process\")\n",
    "    #тут надо запустить работать ячейки ниже "
   ]
  },
  {
   "cell_type": "code",
   "execution_count": null,
   "metadata": {},
   "outputs": [],
   "source": [
    "\n",
    " \n",
    "c = str(urllib.request.urlopen(\"https://openedu.ru/course/\").read(),'utf-8')\n",
    "\n",
    "d = c.find(\";\\n  GROUPS\")\n",
    "i = c.find('COURSES')\n",
    "k = c.find('UNIVERSITIES')\n",
    "\n",
    "dict_full = eval(str( c[k-1:d] ).translate({ ord(\"'\"): None })[15: ])\n",
    "dict_uni = {} \n",
    "for j in dict_full:\n",
    "    dict_uni[j] = dict_full[j]['abbr']\n",
    "\n",
    "c = c[i:k].split(',')"
   ]
  },
  {
   "cell_type": "code",
   "execution_count": 2,
   "metadata": {},
   "outputs": [],
   "source": [
    "cour = []\n",
    "for line in c:\n",
    "    if '\"title\"' in line or '\"url\"' in line or '\"uni\"' in line:\n",
    "        cour.append(line)\n",
    "cour[0] = cour[0].replace(\"COURSES = {\", ' ')"
   ]
  },
  {
   "cell_type": "code",
   "execution_count": 3,
   "metadata": {},
   "outputs": [],
   "source": [
    "newcour = []\n",
    "for i, j in enumerate(cour[::3]):\n",
    "    cour[3*i] = j[ j.find('{') + 1 : ]\n",
    "    newcour.append((cour[3*i][10:-1], \n",
    "                    dict_uni.get(cour[3*i + 1][9:-1]),\n",
    "                    'https://openedu.ru' + cour[3*i + 2][9:-1]))"
   ]
  },
  {
   "cell_type": "code",
   "execution_count": 4,
   "metadata": {},
   "outputs": [],
   "source": [
    "with open('openedu_courses.txt','w') as f:\n",
    "    print(*newcour, file = f, sep = '\\n')"
   ]
  }
 ],
 "metadata": {
  "kernelspec": {
   "display_name": "Python 3",
   "language": "python",
   "name": "python3"
  },
  "language_info": {
   "codemirror_mode": {
    "name": "ipython",
    "version": 3
   },
   "file_extension": ".py",
   "mimetype": "text/x-python",
   "name": "python",
   "nbconvert_exporter": "python",
   "pygments_lexer": "ipython3",
   "version": "3.8.3"
  }
 },
 "nbformat": 4,
 "nbformat_minor": 4
}
